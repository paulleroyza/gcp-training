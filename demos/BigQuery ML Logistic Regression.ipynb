{
 "cells": [
  {
   "cell_type": "markdown",
   "metadata": {},
   "source": [
    "# BigQuery ML"
   ]
  },
  {
   "cell_type": "code",
   "execution_count": null,
   "metadata": {},
   "outputs": [],
   "source": [
    "service_account_file='../../service-account.json'"
   ]
  },
  {
   "cell_type": "code",
   "execution_count": null,
   "metadata": {},
   "outputs": [],
   "source": [
    "import os\n",
    "os.environ['GOOGLE_APPLICATION_CREDENTIALS']=service_account_file\n",
    "%load_ext google.cloud.bigquery\n",
    "import json\n",
    "with open(service_account_file, 'r') as f:\n",
    "    sa = json.load(f)\n",
    "project_id=sa['project_id']\n",
    "os.environ['GOOGLE_CLOUD_PROJECT']=project_id"
   ]
  },
  {
   "cell_type": "code",
   "execution_count": null,
   "metadata": {},
   "outputs": [],
   "source": [
    "%load_ext google.cloud.bigquery"
   ]
  },
  {
   "cell_type": "markdown",
   "metadata": {},
   "source": [
    "## Create the Model"
   ]
  },
  {
   "cell_type": "code",
   "execution_count": null,
   "metadata": {},
   "outputs": [],
   "source": [
    "%%bigquery\n",
    "\n",
    "#%sql -d standard\n",
    "\n",
    "CREATE OR REPLACE MODEL `bqml_tutorial.sample_model`\n",
    "OPTIONS(model_type='logistic_reg') AS\n",
    "SELECT\n",
    "  IF(totals.transactions IS NULL, 0, 1) AS label,\n",
    "  IFNULL(device.operatingSystem, \"\") AS os,\n",
    "  device.isMobile AS is_mobile,\n",
    "  IFNULL(geoNetwork.country, \"\") AS country,\n",
    "  IFNULL(totals.pageviews, 0) AS pageviews\n",
    "FROM\n",
    "  `bigquery-public-data.google_analytics_sample.ga_sessions_*`\n",
    "WHERE\n",
    "  _TABLE_SUFFIX BETWEEN '20160801' AND '20170630'"
   ]
  },
  {
   "cell_type": "markdown",
   "metadata": {},
   "source": [
    "## Evaluate the Model"
   ]
  },
  {
   "cell_type": "code",
   "execution_count": null,
   "metadata": {},
   "outputs": [],
   "source": [
    "%%bigquery\n",
    "SELECT\n",
    "  *\n",
    "FROM\n",
    "  ML.EVALUATE(MODEL `bqml_tutorial.sample_model`, (\n",
    "SELECT\n",
    "  IF(totals.transactions IS NULL, 0, 1) AS label,\n",
    "  IFNULL(device.operatingSystem, \"\") AS os,\n",
    "  device.isMobile AS is_mobile,\n",
    "  IFNULL(geoNetwork.country, \"\") AS country,\n",
    "  IFNULL(totals.pageviews, 0) AS pageviews\n",
    "FROM\n",
    "  `bigquery-public-data.google_analytics_sample.ga_sessions_*`\n",
    "WHERE\n",
    "  _TABLE_SUFFIX BETWEEN '20170701' AND '20170801'))"
   ]
  },
  {
   "cell_type": "markdown",
   "metadata": {},
   "source": [
    "## Make Predictions"
   ]
  },
  {
   "cell_type": "code",
   "execution_count": null,
   "metadata": {},
   "outputs": [],
   "source": [
    "%%bigquery\n",
    "\n",
    "SELECT\n",
    "  country,\n",
    "  SUM(predicted_label) as total_predicted_purchases\n",
    "FROM\n",
    "  ml.PREDICT(MODEL `bqml_tutorial.sample_model`, (\n",
    "SELECT\n",
    "  IFNULL(device.operatingSystem, \"\") AS os,\n",
    "  device.isMobile AS is_mobile,\n",
    "  IFNULL(totals.pageviews, 0) AS pageviews,\n",
    "  IFNULL(geoNetwork.country, \"\") AS country\n",
    "FROM\n",
    "  `bigquery-public-data.google_analytics_sample.ga_sessions_*`\n",
    "WHERE\n",
    "  _TABLE_SUFFIX BETWEEN '20170701' AND '20170801'))\n",
    "GROUP BY country\n",
    "ORDER BY total_predicted_purchases DESC\n",
    "LIMIT 10;"
   ]
  },
  {
   "cell_type": "code",
   "execution_count": null,
   "metadata": {},
   "outputs": [],
   "source": [
    "%%bigquery \n",
    "select * from ML.FEATURE_INFO(MODEL `bqml_tutorial.sample_model`)"
   ]
  },
  {
   "cell_type": "code",
   "execution_count": null,
   "metadata": {},
   "outputs": [],
   "source": [
    "%%bigquery \n",
    "select * from ML.TRAINING_INFO(MODEL `bqml_tutorial.sample_model`)"
   ]
  },
  {
   "cell_type": "code",
   "execution_count": null,
   "metadata": {},
   "outputs": [],
   "source": [
    "%%bigquery \n",
    "select * from ML.WEIGHTS(MODEL `bqml_tutorial.sample_model`)"
   ]
  },
  {
   "cell_type": "code",
   "execution_count": null,
   "metadata": {},
   "outputs": [],
   "source": [
    "%%bigquery \n",
    "select * from ML.CENTROIDS(MODEL `bqml_tutorial.sample_model`)"
   ]
  },
  {
   "cell_type": "code",
   "execution_count": null,
   "metadata": {},
   "outputs": [],
   "source": []
  }
 ],
 "metadata": {
  "kernelspec": {
   "display_name": "Python 3",
   "language": "python",
   "name": "python3"
  },
  "language_info": {
   "codemirror_mode": {
    "name": "ipython",
    "version": 3
   },
   "file_extension": ".py",
   "mimetype": "text/x-python",
   "name": "python",
   "nbconvert_exporter": "python",
   "pygments_lexer": "ipython3",
   "version": "3.6.7"
  }
 },
 "nbformat": 4,
 "nbformat_minor": 2
}
