{
 "cells": [
  {
   "cell_type": "markdown",
   "metadata": {},
   "source": [
    "# BigQuery ML - Tensorflow models\n",
    "\n",
    "Sample code for building and predicting using tensorflow models inside BigQuery\n",
    "from: [BQML - tensorflow](https://cloud.google.com/bigquery-ml/docs/making-predictions-with-imported-tensorflow-models)"
   ]
  },
  {
   "cell_type": "code",
   "execution_count": null,
   "metadata": {},
   "outputs": [],
   "source": [
    "service_account_file='../../service-account.json'"
   ]
  },
  {
   "cell_type": "code",
   "execution_count": null,
   "metadata": {},
   "outputs": [],
   "source": [
    "import os\n",
    "os.environ['GOOGLE_APPLICATION_CREDENTIALS']=service_account_file\n",
    "%load_ext google.cloud.bigquery\n",
    "import json\n",
    "with open(service_account_file, 'r') as f:\n",
    "    sa = json.load(f)\n",
    "project_id=sa['project_id']\n",
    "os.environ['GOOGLE_CLOUD_PROJECT']=project_id"
   ]
  },
  {
   "cell_type": "code",
   "execution_count": null,
   "metadata": {},
   "outputs": [],
   "source": [
    "%load_ext google.cloud.bigquery"
   ]
  },
  {
   "cell_type": "code",
   "execution_count": null,
   "metadata": {},
   "outputs": [],
   "source": [
    "%%bigquery\n",
    "CREATE OR REPLACE MODEL `bqml_tutorial.imported_tf_model`\n",
    "   OPTIONS (MODEL_TYPE='TENSORFLOW',\n",
    "    MODEL_PATH='gs://cloud-training-demos/txtclass/export/exporter/1549825580/*')"
   ]
  },
  {
   "cell_type": "code",
   "execution_count": null,
   "metadata": {},
   "outputs": [],
   "source": [
    "%%bigquery\n",
    "SELECT *\n",
    "   FROM ML.PREDICT(MODEL `bqml_tutorial.imported_tf_model`,\n",
    "     (\n",
    "      SELECT title AS input\n",
    "      FROM `bigquery-public-data.hacker_news.stories` limit 1000\n",
    "     )\n",
    " )"
   ]
  },
  {
   "cell_type": "code",
   "execution_count": null,
   "metadata": {},
   "outputs": [],
   "source": []
  }
 ],
 "metadata": {
  "kernelspec": {
   "display_name": "Python 3",
   "language": "python",
   "name": "python3"
  },
  "language_info": {
   "codemirror_mode": {
    "name": "ipython",
    "version": 3
   },
   "file_extension": ".py",
   "mimetype": "text/x-python",
   "name": "python",
   "nbconvert_exporter": "python",
   "pygments_lexer": "ipython3",
   "version": "3.6.7"
  }
 },
 "nbformat": 4,
 "nbformat_minor": 2
}
